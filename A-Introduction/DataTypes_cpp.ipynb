{
  "nbformat": 4,
  "nbformat_minor": 0,
  "metadata": {
    "colab": {
      "name": "DataTypes.cpp",
      "provenance": [],
      "authorship_tag": "ABX9TyOvh1g2RjGJGHPpl/YnggKs",
      "include_colab_link": true
    },
    "kernelspec": {
      "name": "python3",
      "display_name": "Python 3"
    }
  },
  "cells": [
    {
      "cell_type": "markdown",
      "metadata": {
        "id": "view-in-github",
        "colab_type": "text"
      },
      "source": [
        "<a href=\"https://colab.research.google.com/github/Lakhankumawat/LearnCPP/blob/main/A-Introduction/DataTypes_cpp.ipynb\" target=\"_parent\"><img src=\"https://colab.research.google.com/assets/colab-badge.svg\" alt=\"Open In Colab\"/></a>"
      ]
    },
    {
      "cell_type": "code",
      "metadata": {
        "id": "cIPfZLFJxs5b"
      },
      "source": [
        "Some C++ data types, their format specifiers, and their most common bit widths are as follows:\r\n",
        "\r\n",
        "Int (\"%d\"): 32 Bit integer\r\n",
        "Long (\"%ld\"): 64 bit integer\r\n",
        "Char (\"%c\"): Character type\r\n",
        "Float (\"%f\"): 32 bit real value\r\n",
        "Double (\"%lf\"): 64 bit real value\r\n",
        "Reading\r\n",
        "To read a data type, use the following syntax:\r\n",
        "\r\n",
        "scanf(\"`format_specifier`\", &val)\r\n",
        "For example, to read a character followed by a double:\r\n",
        "\r\n",
        "char ch;\r\n",
        "double d;\r\n",
        "scanf(\"%c %lf\", &ch, &d);\r\n",
        "For the moment, we can ignore the spacing between format specifiers.\r\n",
        "\r\n",
        "Printing\r\n",
        "To print a data type, use the following syntax:\r\n",
        "\r\n",
        "printf(\"`format_specifier`\", val)\r\n",
        "For example, to print a character followed by a double:\r\n",
        "\r\n",
        "char ch = 'd';\r\n",
        "double d = 234.432;\r\n",
        "printf(\"%c %lf\", ch, d);\r\n",
        "Note: You can also use cin and cout instead of scanf and printf; however, if you are taking a million numbers as input and printing a million lines, it is faster to use scanf and printf.\r\n",
        "\r\n",
        "Input Format\r\n",
        "\r\n",
        "Input consists of the following space-separated values: int, long, char, float, and double, respectively.\r\n",
        "\r\n",
        "Output Format\r\n",
        "\r\n",
        "Print each element on a new line in the same order it was received as input. Note that the floating point value should be correct up to 3 decimal places and the double to 9 decimal places.\r\n",
        "\r\n",
        "Sample Input\r\n",
        "\r\n",
        "3 12345678912345 a 334.23 14049.30493\r\n",
        "Sample Output\r\n",
        "\r\n",
        "3\r\n",
        "12345678912345\r\n",
        "a\r\n",
        "334.230\r\n",
        "14049.304930000\r\n",
        "Explanation\r\n",
        "\r\n",
        "Print int ,\r\n",
        "followed by long ,\r\n",
        "followed by char ,\r\n",
        "followed by float ,\r\n",
        "followed by double ."
      ],
      "execution_count": null,
      "outputs": []
    },
    {
      "cell_type": "code",
      "metadata": {
        "id": "gO2qbIFL0f9b"
      },
      "source": [
        "#include <iostream>\r\n",
        "#include <cstdio>\r\n",
        "#include<iomanip>\r\n",
        "using namespace std;\r\n",
        "\r\n",
        "int main() {\r\n",
        "    int a;\r\n",
        "    long b=0;\r\n",
        "    char c;\r\n",
        "     float d=0;\r\n",
        "      double e=0; \r\n",
        "      cin>>a>>b>>c>>d>>e; \r\n",
        "      \r\n",
        "     cout<<a<<endl\r\n",
        "     <<b<<endl\r\n",
        "     <<c<<endl\r\n",
        "     <<std::fixed<<std::setprecision(3)<<d<<endl//std::fixed sets the precision after decimal point \r\n",
        "     <<std::setprecision(9)<<e;//std::setprecision(9) sets the value\r\n",
        "    return 0;\r\n",
        "}\r\n"
      ],
      "execution_count": null,
      "outputs": []
    }
  ]
}